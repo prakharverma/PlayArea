{
 "cells": [
  {
   "cell_type": "markdown",
   "metadata": {},
   "source": [
    "## Generating Random Numbers"
   ]
  },
  {
   "cell_type": "code",
   "execution_count": 119,
   "metadata": {},
   "outputs": [],
   "source": [
    "import jax.numpy as jnp\n",
    "from jax import random, jit, grad, jacfwd, jacrev"
   ]
  },
  {
   "cell_type": "code",
   "execution_count": 43,
   "metadata": {},
   "outputs": [
    {
     "name": "stdout",
     "output_type": "stream",
     "text": [
      "Key = [0 0]\n",
      "[[-0.372111  ]\n",
      " [ 0.2642311 ]\n",
      " [-0.18252774]\n",
      " [-0.7368198 ]\n",
      " [-0.44030386]\n",
      " [-0.15214427]\n",
      " [-0.6713536 ]\n",
      " [-0.59086424]\n",
      " [ 0.73168874]\n",
      " [ 0.56730247]]\n",
      "Same Random Numbers with the same key\n",
      "[[-0.372111  ]\n",
      " [ 0.2642311 ]\n",
      " [-0.18252774]\n",
      " [-0.7368198 ]\n",
      " [-0.44030386]\n",
      " [-0.15214427]\n",
      " [-0.6713536 ]\n",
      " [-0.59086424]\n",
      " [ 0.73168874]\n",
      " [ 0.56730247]]\n",
      "\n",
      "Splitting Key:\n",
      "\n",
      "Key1 = [4146024105  967050713]\n",
      "Key2 = [2718843009 1272950319]\n",
      "[0.59902614 0.21721433 2.4202888  0.03266731 1.2164947 ]\n",
      "[-1.4581941 -2.0470448  2.0473387  1.1684093 -0.9758365]\n"
     ]
    }
   ],
   "source": [
    "key = random.PRNGKey(0)\n",
    "print(f\"Key = {key}\")\n",
    "\n",
    "x = random.normal(key, (10,1))\n",
    "print(x)\n",
    "\n",
    "print(\"Same Random Numbers with the same key\")\n",
    "x = random.normal(key, (10,1))\n",
    "print(x)\n",
    "\n",
    "\n",
    "print(f\"\\nSplitting Key:\\n\")\n",
    "subkey1, subkey2 = random.split(key,2)\n",
    "print(f\"Key1 = {subkey1}\")\n",
    "print(f\"Key2 = {subkey2}\")\n",
    "\n",
    "x1 = random.normal(subkey1, (5,))\n",
    "x2 = random.normal(subkey2, (5,))\n",
    "\n",
    "print(x1)\n",
    "print(x2)"
   ]
  },
  {
   "cell_type": "markdown",
   "metadata": {},
   "source": [
    "## ReLU"
   ]
  },
  {
   "cell_type": "code",
   "execution_count": 65,
   "metadata": {},
   "outputs": [
    {
     "name": "stdout",
     "output_type": "stream",
     "text": [
      "Input : [[-0.372111  ]\n",
      " [ 0.2642311 ]\n",
      " [-0.18252774]\n",
      " [-0.7368198 ]\n",
      " [-0.44030386]\n",
      " [-0.15214427]\n",
      " [-0.6713536 ]\n",
      " [-0.59086424]\n",
      " [ 0.73168874]\n",
      " [ 0.56730247]]\n"
     ]
    }
   ],
   "source": [
    "def relu(x):\n",
    "    return jnp.where(x>0,x,0)\n",
    "\n",
    "x = random.normal(key,(10,1))\n",
    "print(f\"Input : {x}\")"
   ]
  },
  {
   "cell_type": "code",
   "execution_count": 66,
   "metadata": {},
   "outputs": [
    {
     "name": "stdout",
     "output_type": "stream",
     "text": [
      "254 µs ± 7.55 µs per loop (mean ± std. dev. of 7 runs, 1000 loops each)\n"
     ]
    }
   ],
   "source": [
    "%timeit relu(x).block_until_ready()"
   ]
  },
  {
   "cell_type": "markdown",
   "metadata": {},
   "source": [
    "### With JIT"
   ]
  },
  {
   "cell_type": "code",
   "execution_count": 67,
   "metadata": {},
   "outputs": [
    {
     "name": "stdout",
     "output_type": "stream",
     "text": [
      "80.8 µs ± 395 ns per loop (mean ± std. dev. of 7 runs, 10000 loops each)\n"
     ]
    }
   ],
   "source": [
    "jit_relu = jit(relu)\n",
    "%timeit jit_relu(x).block_until_ready()"
   ]
  },
  {
   "cell_type": "markdown",
   "metadata": {},
   "source": [
    "## Gradient"
   ]
  },
  {
   "cell_type": "code",
   "execution_count": 111,
   "metadata": {},
   "outputs": [
    {
     "name": "stdout",
     "output_type": "stream",
     "text": [
      "f(x) = 0.2746530771255493\n",
      "Gradient = -0.05399320274591446\n"
     ]
    }
   ],
   "source": [
    "def f(x):\n",
    "    return jnp.sum(jnp.log1p(x)/(2*x))\n",
    "\n",
    "differentiate = grad(f)\n",
    "\n",
    "print(f\"f(x) = {f(2)}\")\n",
    "print(f\"Gradient = {differentiate(2.0)}\")"
   ]
  },
  {
   "cell_type": "code",
   "execution_count": 112,
   "metadata": {},
   "outputs": [
    {
     "name": "stdout",
     "output_type": "stream",
     "text": [
      "[ 1.  2.  3.  4.  5.  6.  7.  8.  9. 10.]\n"
     ]
    }
   ],
   "source": [
    "x = jnp.arange(1.0,11.)\n",
    "print(x)\n"
   ]
  },
  {
   "cell_type": "code",
   "execution_count": 113,
   "metadata": {},
   "outputs": [
    {
     "name": "stdout",
     "output_type": "stream",
     "text": [
      "350 µs ± 10 µs per loop (mean ± std. dev. of 7 runs, 1000 loops each)\n"
     ]
    }
   ],
   "source": [
    "%timeit f(x)"
   ]
  },
  {
   "cell_type": "code",
   "execution_count": 114,
   "metadata": {},
   "outputs": [
    {
     "name": "stdout",
     "output_type": "stream",
     "text": [
      "2.82 ms ± 44.9 µs per loop (mean ± std. dev. of 7 runs, 100 loops each)\n"
     ]
    }
   ],
   "source": [
    "%timeit differentiate(x)"
   ]
  },
  {
   "cell_type": "markdown",
   "metadata": {},
   "source": [
    "### With JIT"
   ]
  },
  {
   "cell_type": "code",
   "execution_count": 115,
   "metadata": {},
   "outputs": [],
   "source": [
    "jit_f = jit(f)\n",
    "jit_differentiate = jit(differentiate)"
   ]
  },
  {
   "cell_type": "code",
   "execution_count": 116,
   "metadata": {},
   "outputs": [
    {
     "name": "stdout",
     "output_type": "stream",
     "text": [
      "78.4 µs ± 1.3 µs per loop (mean ± std. dev. of 7 runs, 10000 loops each)\n"
     ]
    }
   ],
   "source": [
    "%timeit jit_f(x)"
   ]
  },
  {
   "cell_type": "code",
   "execution_count": 117,
   "metadata": {},
   "outputs": [
    {
     "name": "stdout",
     "output_type": "stream",
     "text": [
      "78.8 µs ± 822 ns per loop (mean ± std. dev. of 7 runs, 10000 loops each)\n"
     ]
    }
   ],
   "source": [
    "%timeit jit_differentiate(x)"
   ]
  },
  {
   "cell_type": "markdown",
   "metadata": {},
   "source": [
    "## Hessian"
   ]
  },
  {
   "cell_type": "code",
   "execution_count": 130,
   "metadata": {},
   "outputs": [
    {
     "name": "stdout",
     "output_type": "stream",
     "text": [
      "78.2 µs ± 1.65 µs per loop (mean ± std. dev. of 7 runs, 10000 loops each)\n"
     ]
    }
   ],
   "source": [
    "def hessian(f):\n",
    "    return jacrev(jacrev(f))\n",
    "\n",
    "hessian_f = jit(hessian(f))\n",
    "\n",
    "%timeit hessian_f(x)"
   ]
  },
  {
   "cell_type": "code",
   "execution_count": null,
   "metadata": {},
   "outputs": [],
   "source": []
  }
 ],
 "metadata": {
  "kernelspec": {
   "display_name": "Python 3",
   "language": "python",
   "name": "python3"
  },
  "language_info": {
   "codemirror_mode": {
    "name": "ipython",
    "version": 3
   },
   "file_extension": ".py",
   "mimetype": "text/x-python",
   "name": "python",
   "nbconvert_exporter": "python",
   "pygments_lexer": "ipython3",
   "version": "3.6.9"
  }
 },
 "nbformat": 4,
 "nbformat_minor": 2
}
